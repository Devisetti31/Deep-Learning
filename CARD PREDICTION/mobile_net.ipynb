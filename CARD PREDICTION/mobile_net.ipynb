{
 "cells": [
  {
   "cell_type": "code",
   "execution_count": 1,
   "metadata": {},
   "outputs": [
    {
     "name": "stderr",
     "output_type": "stream",
     "text": [
      "C:\\ProgramData\\Anaconda3\\lib\\site-packages\\requests\\__init__.py:91: RequestsDependencyWarning: urllib3 (2.0.7) or chardet (3.0.4) doesn't match a supported version!\n",
      "  RequestsDependencyWarning)\n",
      "Using TensorFlow backend.\n"
     ]
    }
   ],
   "source": [
    "import numpy as np\n",
    "import pandas as pd\n",
    "import keras\n",
    "import tensorflow\n",
    "\n",
    "import cv2\n",
    "from keras.preprocessing.image import ImageDataGenerator \n",
    "from keras.models import Model\n",
    "from keras.layers import Input,Dense,Conv2D,AveragePooling2D,Flatten,MaxPooling2D,BatchNormalization,Dropout"
   ]
  },
  {
   "cell_type": "code",
   "execution_count": 2,
   "metadata": {},
   "outputs": [],
   "source": [
    "train_gen = ImageDataGenerator(rotation_range = 20,zoom_range=0.2, horizontal_flip=False,\n",
    "                                  shear_range=0.2,rescale=1./255)\n",
    "\n",
    "test_gen = ImageDataGenerator(rescale=1./255)"
   ]
  },
  {
   "cell_type": "code",
   "execution_count": 3,
   "metadata": {},
   "outputs": [],
   "source": [
    "train_path1 = r\"C:\\Users\\LAKSHMI NARASIMHARAO\\innomatics\\Deep Learning\\Projects\\Cards prediction\\train\"\n",
    "\n",
    "valid_path1 = r\"C:\\Users\\LAKSHMI NARASIMHARAO\\innomatics\\Deep Learning\\Projects\\Cards prediction\\valid\"\n",
    "\n",
    "test_path1 = r\"C:\\Users\\LAKSHMI NARASIMHARAO\\innomatics\\Deep Learning\\Projects\\Cards prediction\\test\""
   ]
  },
  {
   "cell_type": "code",
   "execution_count": 15,
   "metadata": {},
   "outputs": [
    {
     "name": "stdout",
     "output_type": "stream",
     "text": [
      "Found 7624 images belonging to 53 classes.\n",
      "Found 265 images belonging to 53 classes.\n",
      "Found 262 images belonging to 53 classes.\n"
     ]
    }
   ],
   "source": [
    "train_set1 = train_gen.flow_from_directory(train_path1,\n",
    "                                              target_size=(224,224),\n",
    "                                              batch_size=32,\n",
    "                                              class_mode = 'categorical')\n",
    "\n",
    "valid_set1 = test_gen.flow_from_directory(valid_path1,\n",
    "                                            target_size=(224,224),\n",
    "                                            batch_size=32,\n",
    "                                            class_mode='categorical')\n",
    "\n",
    "test_set1 = test_gen.flow_from_directory(test_path1,\n",
    "                                            target_size=(224,224),\n",
    "                                            batch_size=32,\n",
    "                                            class_mode='categorical')"
   ]
  },
  {
   "cell_type": "code",
   "execution_count": 5,
   "metadata": {},
   "outputs": [],
   "source": [
    "from tensorflow.keras.applications import MobileNet, MobileNetV2\n",
    "IMAGE_SIZE = [224,224]\n",
    "\n",
    "mob = MobileNet(input_shape = IMAGE_SIZE + [3], weights='imagenet', include_top=False)"
   ]
  },
  {
   "cell_type": "code",
   "execution_count": 6,
   "metadata": {},
   "outputs": [
    {
     "name": "stdout",
     "output_type": "stream",
     "text": [
      "Model: \"functional_1\"\n",
      "_________________________________________________________________\n",
      "Layer (type)                 Output Shape              Param #   \n",
      "=================================================================\n",
      "input_1 (InputLayer)         [(None, 224, 224, 3)]     0         \n",
      "_________________________________________________________________\n",
      "conv1_pad (ZeroPadding2D)    (None, 225, 225, 3)       0         \n",
      "_________________________________________________________________\n",
      "conv1 (Conv2D)               (None, 112, 112, 32)      864       \n",
      "_________________________________________________________________\n",
      "conv1_bn (BatchNormalization (None, 112, 112, 32)      128       \n",
      "_________________________________________________________________\n",
      "conv1_relu (ReLU)            (None, 112, 112, 32)      0         \n",
      "_________________________________________________________________\n",
      "conv_dw_1 (DepthwiseConv2D)  (None, 112, 112, 32)      288       \n",
      "_________________________________________________________________\n",
      "conv_dw_1_bn (BatchNormaliza (None, 112, 112, 32)      128       \n",
      "_________________________________________________________________\n",
      "conv_dw_1_relu (ReLU)        (None, 112, 112, 32)      0         \n",
      "_________________________________________________________________\n",
      "conv_pw_1 (Conv2D)           (None, 112, 112, 64)      2048      \n",
      "_________________________________________________________________\n",
      "conv_pw_1_bn (BatchNormaliza (None, 112, 112, 64)      256       \n",
      "_________________________________________________________________\n",
      "conv_pw_1_relu (ReLU)        (None, 112, 112, 64)      0         \n",
      "_________________________________________________________________\n",
      "conv_pad_2 (ZeroPadding2D)   (None, 113, 113, 64)      0         \n",
      "_________________________________________________________________\n",
      "conv_dw_2 (DepthwiseConv2D)  (None, 56, 56, 64)        576       \n",
      "_________________________________________________________________\n",
      "conv_dw_2_bn (BatchNormaliza (None, 56, 56, 64)        256       \n",
      "_________________________________________________________________\n",
      "conv_dw_2_relu (ReLU)        (None, 56, 56, 64)        0         \n",
      "_________________________________________________________________\n",
      "conv_pw_2 (Conv2D)           (None, 56, 56, 128)       8192      \n",
      "_________________________________________________________________\n",
      "conv_pw_2_bn (BatchNormaliza (None, 56, 56, 128)       512       \n",
      "_________________________________________________________________\n",
      "conv_pw_2_relu (ReLU)        (None, 56, 56, 128)       0         \n",
      "_________________________________________________________________\n",
      "conv_dw_3 (DepthwiseConv2D)  (None, 56, 56, 128)       1152      \n",
      "_________________________________________________________________\n",
      "conv_dw_3_bn (BatchNormaliza (None, 56, 56, 128)       512       \n",
      "_________________________________________________________________\n",
      "conv_dw_3_relu (ReLU)        (None, 56, 56, 128)       0         \n",
      "_________________________________________________________________\n",
      "conv_pw_3 (Conv2D)           (None, 56, 56, 128)       16384     \n",
      "_________________________________________________________________\n",
      "conv_pw_3_bn (BatchNormaliza (None, 56, 56, 128)       512       \n",
      "_________________________________________________________________\n",
      "conv_pw_3_relu (ReLU)        (None, 56, 56, 128)       0         \n",
      "_________________________________________________________________\n",
      "conv_pad_4 (ZeroPadding2D)   (None, 57, 57, 128)       0         \n",
      "_________________________________________________________________\n",
      "conv_dw_4 (DepthwiseConv2D)  (None, 28, 28, 128)       1152      \n",
      "_________________________________________________________________\n",
      "conv_dw_4_bn (BatchNormaliza (None, 28, 28, 128)       512       \n",
      "_________________________________________________________________\n",
      "conv_dw_4_relu (ReLU)        (None, 28, 28, 128)       0         \n",
      "_________________________________________________________________\n",
      "conv_pw_4 (Conv2D)           (None, 28, 28, 256)       32768     \n",
      "_________________________________________________________________\n",
      "conv_pw_4_bn (BatchNormaliza (None, 28, 28, 256)       1024      \n",
      "_________________________________________________________________\n",
      "conv_pw_4_relu (ReLU)        (None, 28, 28, 256)       0         \n",
      "_________________________________________________________________\n",
      "conv_dw_5 (DepthwiseConv2D)  (None, 28, 28, 256)       2304      \n",
      "_________________________________________________________________\n",
      "conv_dw_5_bn (BatchNormaliza (None, 28, 28, 256)       1024      \n",
      "_________________________________________________________________\n",
      "conv_dw_5_relu (ReLU)        (None, 28, 28, 256)       0         \n",
      "_________________________________________________________________\n",
      "conv_pw_5 (Conv2D)           (None, 28, 28, 256)       65536     \n",
      "_________________________________________________________________\n",
      "conv_pw_5_bn (BatchNormaliza (None, 28, 28, 256)       1024      \n",
      "_________________________________________________________________\n",
      "conv_pw_5_relu (ReLU)        (None, 28, 28, 256)       0         \n",
      "_________________________________________________________________\n",
      "conv_pad_6 (ZeroPadding2D)   (None, 29, 29, 256)       0         \n",
      "_________________________________________________________________\n",
      "conv_dw_6 (DepthwiseConv2D)  (None, 14, 14, 256)       2304      \n",
      "_________________________________________________________________\n",
      "conv_dw_6_bn (BatchNormaliza (None, 14, 14, 256)       1024      \n",
      "_________________________________________________________________\n",
      "conv_dw_6_relu (ReLU)        (None, 14, 14, 256)       0         \n",
      "_________________________________________________________________\n",
      "conv_pw_6 (Conv2D)           (None, 14, 14, 512)       131072    \n",
      "_________________________________________________________________\n",
      "conv_pw_6_bn (BatchNormaliza (None, 14, 14, 512)       2048      \n",
      "_________________________________________________________________\n",
      "conv_pw_6_relu (ReLU)        (None, 14, 14, 512)       0         \n",
      "_________________________________________________________________\n",
      "conv_dw_7 (DepthwiseConv2D)  (None, 14, 14, 512)       4608      \n",
      "_________________________________________________________________\n",
      "conv_dw_7_bn (BatchNormaliza (None, 14, 14, 512)       2048      \n",
      "_________________________________________________________________\n",
      "conv_dw_7_relu (ReLU)        (None, 14, 14, 512)       0         \n",
      "_________________________________________________________________\n",
      "conv_pw_7 (Conv2D)           (None, 14, 14, 512)       262144    \n",
      "_________________________________________________________________\n",
      "conv_pw_7_bn (BatchNormaliza (None, 14, 14, 512)       2048      \n",
      "_________________________________________________________________\n",
      "conv_pw_7_relu (ReLU)        (None, 14, 14, 512)       0         \n",
      "_________________________________________________________________\n",
      "conv_dw_8 (DepthwiseConv2D)  (None, 14, 14, 512)       4608      \n",
      "_________________________________________________________________\n",
      "conv_dw_8_bn (BatchNormaliza (None, 14, 14, 512)       2048      \n",
      "_________________________________________________________________\n",
      "conv_dw_8_relu (ReLU)        (None, 14, 14, 512)       0         \n",
      "_________________________________________________________________\n",
      "conv_pw_8 (Conv2D)           (None, 14, 14, 512)       262144    \n",
      "_________________________________________________________________\n",
      "conv_pw_8_bn (BatchNormaliza (None, 14, 14, 512)       2048      \n",
      "_________________________________________________________________\n",
      "conv_pw_8_relu (ReLU)        (None, 14, 14, 512)       0         \n",
      "_________________________________________________________________\n",
      "conv_dw_9 (DepthwiseConv2D)  (None, 14, 14, 512)       4608      \n",
      "_________________________________________________________________\n",
      "conv_dw_9_bn (BatchNormaliza (None, 14, 14, 512)       2048      \n",
      "_________________________________________________________________\n",
      "conv_dw_9_relu (ReLU)        (None, 14, 14, 512)       0         \n",
      "_________________________________________________________________\n",
      "conv_pw_9 (Conv2D)           (None, 14, 14, 512)       262144    \n",
      "_________________________________________________________________\n",
      "conv_pw_9_bn (BatchNormaliza (None, 14, 14, 512)       2048      \n",
      "_________________________________________________________________\n",
      "conv_pw_9_relu (ReLU)        (None, 14, 14, 512)       0         \n",
      "_________________________________________________________________\n",
      "conv_dw_10 (DepthwiseConv2D) (None, 14, 14, 512)       4608      \n",
      "_________________________________________________________________\n",
      "conv_dw_10_bn (BatchNormaliz (None, 14, 14, 512)       2048      \n",
      "_________________________________________________________________\n",
      "conv_dw_10_relu (ReLU)       (None, 14, 14, 512)       0         \n",
      "_________________________________________________________________\n",
      "conv_pw_10 (Conv2D)          (None, 14, 14, 512)       262144    \n",
      "_________________________________________________________________\n",
      "conv_pw_10_bn (BatchNormaliz (None, 14, 14, 512)       2048      \n",
      "_________________________________________________________________\n",
      "conv_pw_10_relu (ReLU)       (None, 14, 14, 512)       0         \n",
      "_________________________________________________________________\n",
      "conv_dw_11 (DepthwiseConv2D) (None, 14, 14, 512)       4608      \n",
      "_________________________________________________________________\n",
      "conv_dw_11_bn (BatchNormaliz (None, 14, 14, 512)       2048      \n",
      "_________________________________________________________________\n",
      "conv_dw_11_relu (ReLU)       (None, 14, 14, 512)       0         \n",
      "_________________________________________________________________\n",
      "conv_pw_11 (Conv2D)          (None, 14, 14, 512)       262144    \n",
      "_________________________________________________________________\n",
      "conv_pw_11_bn (BatchNormaliz (None, 14, 14, 512)       2048      \n",
      "_________________________________________________________________\n",
      "conv_pw_11_relu (ReLU)       (None, 14, 14, 512)       0         \n",
      "_________________________________________________________________\n",
      "conv_pad_12 (ZeroPadding2D)  (None, 15, 15, 512)       0         \n",
      "_________________________________________________________________\n",
      "conv_dw_12 (DepthwiseConv2D) (None, 7, 7, 512)         4608      \n",
      "_________________________________________________________________\n",
      "conv_dw_12_bn (BatchNormaliz (None, 7, 7, 512)         2048      \n",
      "_________________________________________________________________\n",
      "conv_dw_12_relu (ReLU)       (None, 7, 7, 512)         0         \n",
      "_________________________________________________________________\n",
      "conv_pw_12 (Conv2D)          (None, 7, 7, 1024)        524288    \n",
      "_________________________________________________________________\n",
      "conv_pw_12_bn (BatchNormaliz (None, 7, 7, 1024)        4096      \n",
      "_________________________________________________________________\n",
      "conv_pw_12_relu (ReLU)       (None, 7, 7, 1024)        0         \n",
      "_________________________________________________________________\n",
      "conv_dw_13 (DepthwiseConv2D) (None, 7, 7, 1024)        9216      \n",
      "_________________________________________________________________\n",
      "conv_dw_13_bn (BatchNormaliz (None, 7, 7, 1024)        4096      \n",
      "_________________________________________________________________\n",
      "conv_dw_13_relu (ReLU)       (None, 7, 7, 1024)        0         \n",
      "_________________________________________________________________\n",
      "conv_pw_13 (Conv2D)          (None, 7, 7, 1024)        1048576   \n",
      "_________________________________________________________________\n",
      "conv_pw_13_bn (BatchNormaliz (None, 7, 7, 1024)        4096      \n",
      "_________________________________________________________________\n",
      "conv_pw_13_relu (ReLU)       (None, 7, 7, 1024)        0         \n",
      "_________________________________________________________________\n",
      "flatten (Flatten)            (None, 50176)             0         \n",
      "_________________________________________________________________\n",
      "dense (Dense)                (None, 53)                2659381   \n",
      "=================================================================\n",
      "Total params: 5,888,245\n",
      "Trainable params: 5,866,357\n",
      "Non-trainable params: 21,888\n",
      "_________________________________________________________________\n"
     ]
    }
   ],
   "source": [
    "x1= Flatten()(mob.output)\n",
    "prediction1 = Dense(53, activation='softmax')(x1)\n",
    "mobilenet_model = Model(inputs = mob.inputs, outputs = prediction1)\n",
    "mobilenet_model.summary()\n",
    "mobilenet_model.compile(loss = 'categorical_crossentropy', optimizer='adam', metrics=['accuracy'])"
   ]
  },
  {
   "cell_type": "code",
   "execution_count": 7,
   "metadata": {
    "scrolled": true
   },
   "outputs": [
    {
     "name": "stdout",
     "output_type": "stream",
     "text": [
      "WARNING:tensorflow:From <ipython-input-7-cd802925e5ee>:5: Model.fit_generator (from tensorflow.python.keras.engine.training) is deprecated and will be removed in a future version.\n",
      "Instructions for updating:\n",
      "Please use Model.fit, which supports generators.\n",
      "Epoch 1/10\n",
      "239/239 [==============================] - 1506s 6s/step - loss: 3.6501 - accuracy: 0.4685 - val_loss: 2.4263 - val_accuracy: 0.6491\n",
      "Epoch 2/10\n",
      "239/239 [==============================] - 1146s 5s/step - loss: 1.1237 - accuracy: 0.6945 - val_loss: 0.6750 - val_accuracy: 0.8377\n",
      "Epoch 3/10\n",
      "239/239 [==============================] - 1255s 5s/step - loss: 0.8985 - accuracy: 0.7573 - val_loss: 0.8771 - val_accuracy: 0.8075\n",
      "Epoch 4/10\n",
      "239/239 [==============================] - 1404s 6s/step - loss: 0.7165 - accuracy: 0.7985 - val_loss: 0.4307 - val_accuracy: 0.8830\n",
      "Epoch 5/10\n",
      "239/239 [==============================] - 1586s 7s/step - loss: 0.6462 - accuracy: 0.8214 - val_loss: 0.4402 - val_accuracy: 0.8792\n",
      "Epoch 6/10\n",
      "239/239 [==============================] - 1211s 5s/step - loss: 0.6112 - accuracy: 0.8254 - val_loss: 0.2867 - val_accuracy: 0.9132\n",
      "Epoch 7/10\n",
      "239/239 [==============================] - 1168s 5s/step - loss: 0.4905 - accuracy: 0.8629 - val_loss: 0.3121 - val_accuracy: 0.9170\n",
      "Epoch 8/10\n",
      "239/239 [==============================] - 1205s 5s/step - loss: 0.4679 - accuracy: 0.8632 - val_loss: 0.2901 - val_accuracy: 0.9170\n",
      "Epoch 9/10\n",
      "239/239 [==============================] - 1557s 7s/step - loss: 0.4509 - accuracy: 0.8698 - val_loss: 0.6292 - val_accuracy: 0.8491\n",
      "Epoch 10/10\n",
      "239/239 [==============================] - 1850s 8s/step - loss: 0.4095 - accuracy: 0.8804 - val_loss: 0.3910 - val_accuracy: 0.9245\n"
     ]
    }
   ],
   "source": [
    "history = mobilenet_model.fit_generator(train_set1, \n",
    "                                        validation_data=valid_set1, \n",
    "                                        epochs=10, \n",
    "                                        steps_per_epoch=len(train_set1), \n",
    "                                        validation_steps=len(valid_set1))"
   ]
  },
  {
   "cell_type": "markdown",
   "metadata": {},
   "source": [
    "### Model Evaluation and Testing"
   ]
  },
  {
   "cell_type": "code",
   "execution_count": 10,
   "metadata": {},
   "outputs": [
    {
     "data": {
      "text/plain": [
       "{'ace of clubs': 0,\n",
       " 'ace of diamonds': 1,\n",
       " 'ace of hearts': 2,\n",
       " 'ace of spades': 3,\n",
       " 'eight of clubs': 4,\n",
       " 'eight of diamonds': 5,\n",
       " 'eight of hearts': 6,\n",
       " 'eight of spades': 7,\n",
       " 'five of clubs': 8,\n",
       " 'five of diamonds': 9,\n",
       " 'five of hearts': 10,\n",
       " 'five of spades': 11,\n",
       " 'four of clubs': 12,\n",
       " 'four of diamonds': 13,\n",
       " 'four of hearts': 14,\n",
       " 'four of spades': 15,\n",
       " 'jack of clubs': 16,\n",
       " 'jack of diamonds': 17,\n",
       " 'jack of hearts': 18,\n",
       " 'jack of spades': 19,\n",
       " 'joker': 20,\n",
       " 'king of clubs': 21,\n",
       " 'king of diamonds': 22,\n",
       " 'king of hearts': 23,\n",
       " 'king of spades': 24,\n",
       " 'nine of clubs': 25,\n",
       " 'nine of diamonds': 26,\n",
       " 'nine of hearts': 27,\n",
       " 'nine of spades': 28,\n",
       " 'queen of clubs': 29,\n",
       " 'queen of diamonds': 30,\n",
       " 'queen of hearts': 31,\n",
       " 'queen of spades': 32,\n",
       " 'seven of clubs': 33,\n",
       " 'seven of diamonds': 34,\n",
       " 'seven of hearts': 35,\n",
       " 'seven of spades': 36,\n",
       " 'six of clubs': 37,\n",
       " 'six of diamonds': 38,\n",
       " 'six of hearts': 39,\n",
       " 'six of spades': 40,\n",
       " 'ten of clubs': 41,\n",
       " 'ten of diamonds': 42,\n",
       " 'ten of hearts': 43,\n",
       " 'ten of spades': 44,\n",
       " 'three of clubs': 45,\n",
       " 'three of diamonds': 46,\n",
       " 'three of hearts': 47,\n",
       " 'three of spades': 48,\n",
       " 'two of clubs': 49,\n",
       " 'two of diamonds': 50,\n",
       " 'two of hearts': 51,\n",
       " 'two of spades': 52}"
      ]
     },
     "execution_count": 10,
     "metadata": {},
     "output_type": "execute_result"
    }
   ],
   "source": [
    "result = train_set1.class_indices\n",
    "\n",
    "result"
   ]
  },
  {
   "cell_type": "code",
   "execution_count": 13,
   "metadata": {},
   "outputs": [],
   "source": [
    "import os\n",
    "test_ = []\n",
    "for folder in os.listdir(r\"C:\\Users\\LAKSHMI NARASIMHARAO\\innomatics\\Deep Learning\\Projects\\Cards prediction\\test\"):\n",
    "    test_.append(folder)\n",
    "    \n",
    "import os\n",
    "train_ = []\n",
    "for folder in os.listdir(r\"C:\\Users\\LAKSHMI NARASIMHARAO\\innomatics\\Deep Learning\\Projects\\Cards prediction\\train\"):\n",
    "    train_.append(folder)\n",
    "\n",
    "for j in train_:\n",
    "    if j not in test_:\n",
    "        print(j)"
   ]
  },
  {
   "cell_type": "code",
   "execution_count": 16,
   "metadata": {},
   "outputs": [
    {
     "name": "stdout",
     "output_type": "stream",
     "text": [
      "9/9 [==============================] - 8s 897ms/step - loss: 0.4435 - accuracy: 0.9008\n",
      "Mobilenet Test Loss: 0.44347354769706726\n",
      "Mobilenet Test accuracy: 0.9007633328437805\n"
     ]
    }
   ],
   "source": [
    "mobilenet_scores = mobilenet_model.evaluate(test_set1)\n",
    "print(\"Mobilenet Test Loss:\", mobilenet_scores[0])\n",
    "print(\"Mobilenet Test accuracy:\", mobilenet_scores[1])\n",
    "\n"
   ]
  },
  {
   "cell_type": "code",
   "execution_count": 17,
   "metadata": {},
   "outputs": [
    {
     "name": "stdout",
     "output_type": "stream",
     "text": [
      "9/9 [==============================] - 8s 903ms/step - loss: 0.3910 - accuracy: 0.9245\n",
      "Mobilenet validation Loss: 0.3909977078437805\n",
      "Mobilenet validation accuracy: 0.9245283007621765\n"
     ]
    }
   ],
   "source": [
    "mobilenet_scores = mobilenet_model.evaluate(valid_set1)\n",
    "print(\"Mobilenet validation Loss:\", mobilenet_scores[0])\n",
    "print(\"Mobilenet validation accuracy:\", mobilenet_scores[1])\n",
    "\n"
   ]
  },
  {
   "cell_type": "code",
   "execution_count": null,
   "metadata": {},
   "outputs": [],
   "source": [
    "--"
   ]
  },
  {
   "cell_type": "code",
   "execution_count": 19,
   "metadata": {},
   "outputs": [
    {
     "data": {
      "image/png": "[encoded data removed]",
      "text/plain": [
       "<Figure size 1440x720 with 2 Axes>"
      ]
     },
     "metadata": {
      "needs_background": "light"
     },
     "output_type": "display_data"
    }
   ],
   "source": [
    "import matplotlib.pyplot as plt\n",
    "\n",
    "x=history\n",
    "plt.figure(figsize=(20,10))\n",
    "plt.subplot(1, 2, 1)\n",
    "plt.suptitle('Optimizer : adam', fontsize=10)\n",
    "plt.ylabel('Loss', fontsize=16)\n",
    "plt.plot(x.history['loss'], label='Training Loss')\n",
    "plt.plot(x.history['val_loss'], label='Validation Loss')\n",
    "plt.legend(loc='upper right')\n",
    "\n",
    "plt.subplot(1, 2, 2)\n",
    "plt.ylabel('Accuracy', fontsize=16)\n",
    "plt.plot(x.history['accuracy'], label='Training Accuracy')\n",
    "plt.plot(x.history['val_accuracy'], label='Validation Accuracy')\n",
    "plt.legend(loc='lower right')\n",
    "plt.show()"
   ]
  },
  {
   "cell_type": "code",
   "execution_count": null,
   "metadata": {},
   "outputs": [],
   "source": []
  },
  {
   "cell_type": "code",
   "execution_count": 20,
   "metadata": {},
   "outputs": [],
   "source": [
    "mobilenet_model.save('cards_mobilenet.h5')"
   ]
  },
  {
   "cell_type": "code",
   "execution_count": 21,
   "metadata": {},
   "outputs": [],
   "source": [
    "final_model = tensorflow.keras.models.load_model(\"cards_mobilenet.h5\")"
   ]
  },
  {
   "cell_type": "code",
   "execution_count": null,
   "metadata": {},
   "outputs": [],
   "source": []
  },
  {
   "cell_type": "code",
   "execution_count": 28,
   "metadata": {},
   "outputs": [
    {
     "name": "stdout",
     "output_type": "stream",
     "text": [
      "output is : {'king of spades'}\n"
     ]
    }
   ],
   "source": [
    "path = r\"C:\\Users\\LAKSHMI NARASIMHARAO\\innomatics\\Deep Learning\\Projects\\Cards prediction\\test\\four of spades\\5.jpg\"\n",
    "\n",
    "img = cv2.imread(path)\n",
    "\n",
    "output = np.argmax(final_model.predict(cv2.resize(img,(224,224),interpolation=cv2.INTER_AREA)[np.newaxis]))\n",
    "\n",
    "value = {i for i in result if result[i]==output}\n",
    "print(\"output is :\",value)"
   ]
  },
  {
   "cell_type": "code",
   "execution_count": 29,
   "metadata": {},
   "outputs": [],
   "source": [
    "cv2.imshow('img',cv2.resize(img,(224,224),interpolation=cv2.INTER_LINEAR))\n",
    "cv2.waitKey()\n",
    "cv2.destroyAllWindows()"
   ]
  },
  {
   "cell_type": "code",
   "execution_count": null,
   "metadata": {},
   "outputs": [],
   "source": []
  },
  {
   "cell_type": "code",
   "execution_count": null,
   "metadata": {},
   "outputs": [],
   "source": []
  },
  {
   "cell_type": "code",
   "execution_count": null,
   "metadata": {},
   "outputs": [],
   "source": []
  }
 ],
 "metadata": {
  "kernelspec": {
   "display_name": "Python 3",
   "language": "python",
   "name": "python3"
  },
  "language_info": {
   "codemirror_mode": {
    "name": "ipython",
    "version": 3
   },
   "file_extension": ".py",
   "mimetype": "text/x-python",
   "name": "python",
   "nbconvert_exporter": "python",
   "pygments_lexer": "ipython3",
   "version": "3.7.4"
  }
 },
 "nbformat": 4,
 "nbformat_minor": 2
}
