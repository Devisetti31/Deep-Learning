{
 "cells": [
  {
   "cell_type": "code",
   "execution_count": 1,
   "metadata": {},
   "outputs": [
    {
     "name": "stderr",
     "output_type": "stream",
     "text": [
      "C:\\ProgramData\\Anaconda3\\lib\\site-packages\\requests\\__init__.py:91: RequestsDependencyWarning: urllib3 (2.0.7) or chardet (3.0.4) doesn't match a supported version!\n",
      "  RequestsDependencyWarning)\n",
      "Using TensorFlow backend.\n"
     ]
    }
   ],
   "source": [
    "import numpy as np\n",
    "import pandas as pd\n",
    "import keras\n",
    "import tensorflow\n",
    "\n",
    "import cv2\n",
    "from keras.preprocessing.image import ImageDataGenerator \n",
    "from keras.models import Model\n",
    "from keras.layers import Input,Dense,Conv2D,AveragePooling2D,Flatten,MaxPooling2D,BatchNormalization,Dropout"
   ]
  },
  {
   "cell_type": "code",
   "execution_count": 2,
   "metadata": {},
   "outputs": [],
   "source": [
    "train_gen = ImageDataGenerator(featurewise_center = True,\n",
    "                                  featurewise_std_normalization = True,\n",
    "                                  samplewise_center = False,\n",
    "                                  rotation_range = 45,width_shift_range=0.4 ,\n",
    "                                  height_shift_range = 0.4,brightness_range=[-0.2,1.2],shear_range=4,rescale=1./255\n",
    "                                  )\n",
    "test_gen = ImageDataGenerator(rescale=1./255)"
   ]
  },
  {
   "cell_type": "code",
   "execution_count": 3,
   "metadata": {},
   "outputs": [
    {
     "name": "stdout",
     "output_type": "stream",
     "text": [
      "Found 7624 images belonging to 53 classes.\n",
      "Found 265 images belonging to 53 classes.\n"
     ]
    }
   ],
   "source": [
    "final_train_gen = train_gen.flow_from_directory(r\"C:\\Users\\LAKSHMI NARASIMHARAO\\innomatics\\Deep Learning\\Projects\\Cards prediction\\train\",\n",
    "                              target_size=(227,227),class_mode='sparse',batch_size=90)\n",
    "\n",
    "final_test_gen = test_gen.flow_from_directory(r\"C:\\Users\\LAKSHMI NARASIMHARAO\\innomatics\\Deep Learning\\Projects\\Cards prediction\\valid\",\n",
    "                              target_size=(227,227),class_mode='sparse',batch_size=90)"
   ]
  },
  {
   "cell_type": "code",
   "execution_count": 4,
   "metadata": {},
   "outputs": [
    {
     "data": {
      "text/plain": [
       "{'ace of clubs': 0,\n",
       " 'ace of diamonds': 1,\n",
       " 'ace of hearts': 2,\n",
       " 'ace of spades': 3,\n",
       " 'eight of clubs': 4,\n",
       " 'eight of diamonds': 5,\n",
       " 'eight of hearts': 6,\n",
       " 'eight of spades': 7,\n",
       " 'five of clubs': 8,\n",
       " 'five of diamonds': 9,\n",
       " 'five of hearts': 10,\n",
       " 'five of spades': 11,\n",
       " 'four of clubs': 12,\n",
       " 'four of diamonds': 13,\n",
       " 'four of hearts': 14,\n",
       " 'four of spades': 15,\n",
       " 'jack of clubs': 16,\n",
       " 'jack of diamonds': 17,\n",
       " 'jack of hearts': 18,\n",
       " 'jack of spades': 19,\n",
       " 'joker': 20,\n",
       " 'king of clubs': 21,\n",
       " 'king of diamonds': 22,\n",
       " 'king of hearts': 23,\n",
       " 'king of spades': 24,\n",
       " 'nine of clubs': 25,\n",
       " 'nine of diamonds': 26,\n",
       " 'nine of hearts': 27,\n",
       " 'nine of spades': 28,\n",
       " 'queen of clubs': 29,\n",
       " 'queen of diamonds': 30,\n",
       " 'queen of hearts': 31,\n",
       " 'queen of spades': 32,\n",
       " 'seven of clubs': 33,\n",
       " 'seven of diamonds': 34,\n",
       " 'seven of hearts': 35,\n",
       " 'seven of spades': 36,\n",
       " 'six of clubs': 37,\n",
       " 'six of diamonds': 38,\n",
       " 'six of hearts': 39,\n",
       " 'six of spades': 40,\n",
       " 'ten of clubs': 41,\n",
       " 'ten of diamonds': 42,\n",
       " 'ten of hearts': 43,\n",
       " 'ten of spades': 44,\n",
       " 'three of clubs': 45,\n",
       " 'three of diamonds': 46,\n",
       " 'three of hearts': 47,\n",
       " 'three of spades': 48,\n",
       " 'two of clubs': 49,\n",
       " 'two of diamonds': 50,\n",
       " 'two of hearts': 51,\n",
       " 'two of spades': 52}"
      ]
     },
     "execution_count": 4,
     "metadata": {},
     "output_type": "execute_result"
    }
   ],
   "source": [
    "final_train_gen.class_indices"
   ]
  },
  {
   "cell_type": "markdown",
   "metadata": {},
   "source": [
    "#### VGG19 and VGG16"
   ]
  },
  {
   "cell_type": "code",
   "execution_count": 5,
   "metadata": {},
   "outputs": [
    {
     "name": "stdout",
     "output_type": "stream",
     "text": [
      "Found 7624 images belonging to 53 classes.\n",
      "Found 265 images belonging to 53 classes.\n"
     ]
    }
   ],
   "source": [
    "import numpy as np\n",
    "import tensorflow as tf\n",
    "from tensorflow.keras.applications import VGG16, VGG19\n",
    "from tensorflow.keras.models import Sequential\n",
    "from tensorflow.keras.layers import Dense, Flatten, Dropout\n",
    "from tensorflow.keras.preprocessing.image import ImageDataGenerator\n",
    "\n",
    "# Constants\n",
    "IMAGE_SIZE = (224, 224)\n",
    "BATCH_SIZE = 32\n",
    "\n",
    "\n",
    "# Load pre-trained models\n",
    "base_model_vgg16 = VGG16(weights='imagenet', include_top=False, input_shape=(224, 224, 3))\n",
    "\n",
    "# Freeze the layers\n",
    "for layer in base_model_vgg16.layers:\n",
    "    layer.trainable = False\n",
    "\n",
    "\n",
    "# Create model architecture\n",
    "model_vgg16 = Sequential([\n",
    "    base_model_vgg16,\n",
    "    Flatten(),\n",
    "    Dense(512, activation='relu'),\n",
    "    Dropout(0.5),\n",
    "    Dense(53, activation='softmax')\n",
    "])\n",
    "\n",
    "\n",
    "# Compile the models\n",
    "model_vgg16.compile(optimizer='adam', loss='categorical_crossentropy', metrics=['accuracy'])\n",
    "\n",
    "# Data preprocessing\n",
    "train_datagen = ImageDataGenerator(rescale=1./255, shear_range=0.2, zoom_range=0.2, horizontal_flip=True)\n",
    "test_datagen = ImageDataGenerator(rescale=1./255)\n",
    "\n",
    "train_generator = train_datagen.flow_from_directory(\n",
    "    r\"C:\\Users\\LAKSHMI NARASIMHARAO\\innomatics\\Deep Learning\\Projects\\Cards prediction\\train\",\n",
    "        target_size=IMAGE_SIZE,\n",
    "        batch_size=BATCH_SIZE,\n",
    "        class_mode='categorical')\n",
    "\n",
    "validation_generator = test_datagen.flow_from_directory(\n",
    "        r\"C:\\Users\\LAKSHMI NARASIMHARAO\\innomatics\\Deep Learning\\Projects\\Cards prediction\\valid\",\n",
    "        target_size=IMAGE_SIZE,\n",
    "        batch_size=BATCH_SIZE,\n",
    "        class_mode='categorical')\n",
    "\n"
   ]
  },
  {
   "cell_type": "code",
   "execution_count": 6,
   "metadata": {},
   "outputs": [
    {
     "name": "stdout",
     "output_type": "stream",
     "text": [
      "Epoch 1/10\n",
      "238/238 [==============================] - 2644s 11s/step - loss: 3.5232 - accuracy: 0.1201 - val_loss: 2.0734 - val_accuracy: 0.4766\n",
      "Epoch 2/10\n",
      "238/238 [==============================] - 1659s 7s/step - loss: 2.6234 - accuracy: 0.2471 - val_loss: 1.5084 - val_accuracy: 0.5859\n",
      "Epoch 3/10\n",
      "238/238 [==============================] - 1580s 7s/step - loss: 2.3668 - accuracy: 0.2985 - val_loss: 1.3562 - val_accuracy: 0.6602\n",
      "Epoch 4/10\n",
      "238/238 [==============================] - 1740s 7s/step - loss: 2.2366 - accuracy: 0.3305 - val_loss: 1.2187 - val_accuracy: 0.6680\n",
      "Epoch 5/10\n",
      "238/238 [==============================] - 2923s 12s/step - loss: 2.1177 - accuracy: 0.3606 - val_loss: 1.0526 - val_accuracy: 0.7461\n",
      "Epoch 6/10\n",
      "238/238 [==============================] - 1563s 7s/step - loss: 2.0670 - accuracy: 0.3717 - val_loss: 0.9863 - val_accuracy: 0.7227\n",
      "Epoch 7/10\n",
      "238/238 [==============================] - 1553s 7s/step - loss: 1.9991 - accuracy: 0.3838 - val_loss: 0.9045 - val_accuracy: 0.7539\n",
      "Epoch 8/10\n",
      "238/238 [==============================] - 1548s 7s/step - loss: 1.9315 - accuracy: 0.4035 - val_loss: 0.9205 - val_accuracy: 0.7617\n",
      "Epoch 9/10\n",
      "238/238 [==============================] - 1688s 7s/step - loss: 1.8906 - accuracy: 0.4077 - val_loss: 0.8867 - val_accuracy: 0.7773\n",
      "Epoch 10/10\n",
      "238/238 [==============================] - 3136s 13s/step - loss: 1.8554 - accuracy: 0.4200 - val_loss: 0.8620 - val_accuracy: 0.7539\n",
      "Found 262 images belonging to 53 classes.\n"
     ]
    }
   ],
   "source": [
    "# Train the models\n",
    "history_vgg16 = model_vgg16.fit(\n",
    "    train_generator,\n",
    "    steps_per_epoch=train_generator.samples // BATCH_SIZE,\n",
    "    epochs=10,\n",
    "    validation_data=validation_generator,\n",
    "    validation_steps=validation_generator.samples // BATCH_SIZE\n",
    ")\n",
    "\n",
    "# Evaluate the models\n",
    "test_generator = test_datagen.flow_from_directory(\n",
    "    r\"C:\\Users\\LAKSHMI NARASIMHARAO\\innomatics\\Deep Learning\\Projects\\Cards prediction\\test\",\n",
    "    target_size=IMAGE_SIZE,\n",
    "    batch_size=BATCH_SIZE,\n",
    "    class_mode='categorical',\n",
    "    shuffle=False)\n",
    "\n"
   ]
  },
  {
   "cell_type": "markdown",
   "metadata": {},
   "source": [
    "history_vgg19 = model_vgg19.fit(\n",
    "    train_generator,\n",
    "    steps_per_epoch=train_generator.samples // BATCH_SIZE,\n",
    "    epochs=10,\n",
    "    validation_data=validation_generator,\n",
    "    validation_steps=validation_generator.samples // BATCH_SIZE\n",
    ")"
   ]
  },
  {
   "cell_type": "markdown",
   "metadata": {},
   "source": [
    "### Model Evaluation and Testing"
   ]
  },
  {
   "cell_type": "code",
   "execution_count": 19,
   "metadata": {},
   "outputs": [
    {
     "data": {
      "text/plain": [
       "{'ace of clubs': 0,\n",
       " 'ace of diamonds': 1,\n",
       " 'ace of hearts': 2,\n",
       " 'ace of spades': 3,\n",
       " 'eight of clubs': 4,\n",
       " 'eight of diamonds': 5,\n",
       " 'eight of hearts': 6,\n",
       " 'eight of spades': 7,\n",
       " 'five of clubs': 8,\n",
       " 'five of diamonds': 9,\n",
       " 'five of hearts': 10,\n",
       " 'five of spades': 11,\n",
       " 'four of clubs': 12,\n",
       " 'four of diamonds': 13,\n",
       " 'four of hearts': 14,\n",
       " 'four of spades': 15,\n",
       " 'jack of clubs': 16,\n",
       " 'jack of diamonds': 17,\n",
       " 'jack of hearts': 18,\n",
       " 'jack of spades': 19,\n",
       " 'joker': 20,\n",
       " 'king of clubs': 21,\n",
       " 'king of diamonds': 22,\n",
       " 'king of hearts': 23,\n",
       " 'king of spades': 24,\n",
       " 'nine of clubs': 25,\n",
       " 'nine of diamonds': 26,\n",
       " 'nine of hearts': 27,\n",
       " 'nine of spades': 28,\n",
       " 'queen of clubs': 29,\n",
       " 'queen of diamonds': 30,\n",
       " 'queen of hearts': 31,\n",
       " 'queen of spades': 32,\n",
       " 'seven of clubs': 33,\n",
       " 'seven of diamonds': 34,\n",
       " 'seven of hearts': 35,\n",
       " 'seven of spades': 36,\n",
       " 'six of clubs': 37,\n",
       " 'six of diamonds': 38,\n",
       " 'six of hearts': 39,\n",
       " 'six of spades': 40,\n",
       " 'ten of clubs': 41,\n",
       " 'ten of diamonds': 42,\n",
       " 'ten of hearts': 43,\n",
       " 'ten of spades': 44,\n",
       " 'three of clubs': 45,\n",
       " 'three of diamonds': 46,\n",
       " 'three of hearts': 47,\n",
       " 'three of spades': 48,\n",
       " 'two of clubs': 49,\n",
       " 'two of diamonds': 50,\n",
       " 'two of hearts': 51,\n",
       " 'two of spades': 52}"
      ]
     },
     "execution_count": 19,
     "metadata": {},
     "output_type": "execute_result"
    }
   ],
   "source": [
    "result = train_generator.class_indices\n",
    "result"
   ]
  },
  {
   "cell_type": "code",
   "execution_count": 8,
   "metadata": {},
   "outputs": [],
   "source": [
    "import os\n",
    "test_ = []\n",
    "for folder in os.listdir(r\"C:\\Users\\LAKSHMI NARASIMHARAO\\innomatics\\Deep Learning\\Projects\\Cards prediction\\test\"):\n",
    "    test_.append(folder)\n",
    "    \n",
    "import os\n",
    "train_ = []\n",
    "for folder in os.listdir(r\"C:\\Users\\LAKSHMI NARASIMHARAO\\innomatics\\Deep Learning\\Projects\\Cards prediction\\train\"):\n",
    "    train_.append(folder)\n",
    "\n",
    "for j in train_:\n",
    "    if j not in test_:\n",
    "        print(j)"
   ]
  },
  {
   "cell_type": "code",
   "execution_count": null,
   "metadata": {},
   "outputs": [],
   "source": []
  },
  {
   "cell_type": "code",
   "execution_count": null,
   "metadata": {},
   "outputs": [],
   "source": []
  },
  {
   "cell_type": "code",
   "execution_count": 21,
   "metadata": {},
   "outputs": [
    {
     "name": "stdout",
     "output_type": "stream",
     "text": [
      "Found 7624 images belonging to 53 classes.\n",
      "Found 265 images belonging to 53 classes.\n",
      "Epoch 1/20\n",
      "238/238 [==============================] - 1590s 7s/step - loss: 3.8233 - accuracy: 0.0594 - val_loss: 3.2784 - val_accuracy: 0.2461\n",
      "Epoch 2/20\n",
      "238/238 [==============================] - 2877s 12s/step - loss: 3.2226 - accuracy: 0.1589 - val_loss: 2.3790 - val_accuracy: 0.4297\n",
      "Epoch 3/20\n",
      "238/238 [==============================] - 3036s 13s/step - loss: 2.7113 - accuracy: 0.2565 - val_loss: 1.7782 - val_accuracy: 0.5156\n",
      "Epoch 4/20\n",
      "238/238 [==============================] - 1725s 7s/step - loss: 2.3331 - accuracy: 0.3356 - val_loss: 1.4421 - val_accuracy: 0.6289\n",
      "Epoch 5/20\n",
      "238/238 [==============================] - 1543s 6s/step - loss: 2.0691 - accuracy: 0.4037 - val_loss: 1.2465 - val_accuracy: 0.6836\n",
      "Epoch 6/20\n",
      "238/238 [==============================] - 1540s 6s/step - loss: 1.8684 - accuracy: 0.4568 - val_loss: 1.0655 - val_accuracy: 0.7188\n",
      "Epoch 7/20\n",
      "238/238 [==============================] - 1539s 6s/step - loss: 1.7211 - accuracy: 0.5020 - val_loss: 0.9630 - val_accuracy: 0.7461\n",
      "Epoch 8/20\n",
      "238/238 [==============================] - 3082s 13s/step - loss: 1.6047 - accuracy: 0.5331 - val_loss: 0.8477 - val_accuracy: 0.7695\n",
      "Epoch 9/20\n",
      "238/238 [==============================] - 3131s 13s/step - loss: 1.4947 - accuracy: 0.5651 - val_loss: 0.7615 - val_accuracy: 0.8125\n",
      "Epoch 10/20\n",
      "238/238 [==============================] - 2528s 11s/step - loss: 1.3994 - accuracy: 0.5822 - val_loss: 0.6690 - val_accuracy: 0.7969\n",
      "Epoch 11/20\n",
      "238/238 [==============================] - 1507s 6s/step - loss: 1.3183 - accuracy: 0.6121 - val_loss: 0.6376 - val_accuracy: 0.8320\n",
      "Epoch 12/20\n",
      "238/238 [==============================] - 1534s 6s/step - loss: 1.2503 - accuracy: 0.6292 - val_loss: 0.6187 - val_accuracy: 0.8281\n",
      "Epoch 13/20\n",
      "238/238 [==============================] - 1539s 6s/step - loss: 1.1685 - accuracy: 0.6565 - val_loss: 0.5736 - val_accuracy: 0.8359\n",
      "Epoch 14/20\n",
      "238/238 [==============================] - 1543s 6s/step - loss: 1.1145 - accuracy: 0.6664 - val_loss: 0.5314 - val_accuracy: 0.8633\n",
      "Epoch 15/20\n",
      "238/238 [==============================] - 1534s 6s/step - loss: 1.0810 - accuracy: 0.6728 - val_loss: 0.4949 - val_accuracy: 0.8594\n",
      "Epoch 16/20\n",
      "238/238 [==============================] - 1534s 6s/step - loss: 1.0293 - accuracy: 0.6870 - val_loss: 0.4987 - val_accuracy: 0.8711\n",
      "Epoch 17/20\n",
      "238/238 [==============================] - 1534s 6s/step - loss: 0.9809 - accuracy: 0.7061 - val_loss: 0.4682 - val_accuracy: 0.8672\n",
      "Epoch 18/20\n",
      "238/238 [==============================] - 1535s 6s/step - loss: 0.9411 - accuracy: 0.7173 - val_loss: 0.4813 - val_accuracy: 0.8633\n",
      "Epoch 19/20\n",
      "238/238 [==============================] - 1535s 6s/step - loss: 0.9015 - accuracy: 0.7247 - val_loss: 0.4562 - val_accuracy: 0.8672\n",
      "Epoch 20/20\n",
      "238/238 [==============================] - 1532s 6s/step - loss: 0.8808 - accuracy: 0.7296 - val_loss: 0.4457 - val_accuracy: 0.8672\n",
      "Found 262 images belonging to 53 classes.\n",
      "9/9 [==============================] - 45s 5s/step - loss: 0.6738 - accuracy: 0.8244\n",
      "Test loss: 0.6738117933273315, Test accuracy: 0.8244274854660034\n"
     ]
    }
   ],
   "source": [
    "import numpy as np\n",
    "import tensorflow as tf\n",
    "from tensorflow.keras.applications import VGG16\n",
    "from tensorflow.keras.models import Sequential\n",
    "from tensorflow.keras.layers import Dense, Flatten, Dropout\n",
    "from tensorflow.keras.preprocessing.image import ImageDataGenerator\n",
    "from tensorflow.keras.optimizers import Adam\n",
    "\n",
    "# Constants\n",
    "IMAGE_SIZE = (224, 224)\n",
    "BATCH_SIZE = 32\n",
    "\n",
    "# Load pre-trained model\n",
    "base_model_vgg16 = VGG16(weights='imagenet', include_top=False, input_shape=(224, 224, 3))\n",
    "\n",
    "# Freeze the layers\n",
    "for layer in base_model_vgg16.layers:\n",
    "    layer.trainable = False\n",
    "\n",
    "# Create model architecture\n",
    "model_vgg16 = Sequential([\n",
    "    base_model_vgg16,\n",
    "    Flatten(),\n",
    "    Dense(512, activation='relu'),\n",
    "    Dropout(0.5),\n",
    "    Dense(256, activation='relu'),  # Added more dense layers\n",
    "    Dropout(0.3),                    # Added dropout for regularization\n",
    "    Dense(128, activation='relu'),   # Added more dense layers\n",
    "    Dense(53, activation='softmax')\n",
    "])\n",
    "\n",
    "# Compile the model with a lower learning rate\n",
    "opt = Adam(lr=0.0001)\n",
    "model_vgg16.compile(optimizer=opt, loss='categorical_crossentropy', metrics=['accuracy'])\n",
    "\n",
    "# Data preprocessing with more aggressive augmentation\n",
    "train_datagen = ImageDataGenerator(rescale=1./255, shear_range=0.2, zoom_range=0.2, horizontal_flip=True)\n",
    "\n",
    "test_datagen = ImageDataGenerator(rescale=1./255)\n",
    "\n",
    "# Load data generators\n",
    "train_generator = train_datagen.flow_from_directory(\n",
    "    r\"C:\\Users\\LAKSHMI NARASIMHARAO\\innomatics\\Deep Learning\\Projects\\Cards prediction\\train\",\n",
    "    target_size=IMAGE_SIZE,\n",
    "    batch_size=BATCH_SIZE,\n",
    "    class_mode='categorical'\n",
    ")\n",
    "validation_generator = test_datagen.flow_from_directory(\n",
    "    r\"C:\\Users\\LAKSHMI NARASIMHARAO\\innomatics\\Deep Learning\\Projects\\Cards prediction\\valid\",\n",
    "    target_size=IMAGE_SIZE,\n",
    "    batch_size=BATCH_SIZE,\n",
    "    class_mode='categorical'\n",
    ")\n",
    "\n",
    "# Train the model with more epochs\n",
    "history_vgg16 = model_vgg16.fit(\n",
    "    train_generator,\n",
    "    steps_per_epoch=train_generator.samples // BATCH_SIZE,\n",
    "    epochs=20,  # Increased epochs\n",
    "    validation_data=validation_generator,\n",
    "    validation_steps=validation_generator.samples // BATCH_SIZE\n",
    ")\n",
    "\n",
    "# Evaluate the model\n",
    "test_generator = test_datagen.flow_from_directory(\n",
    "    r\"C:\\Users\\LAKSHMI NARASIMHARAO\\innomatics\\Deep Learning\\Projects\\Cards prediction\\test\",\n",
    "    target_size=IMAGE_SIZE,\n",
    "    batch_size=BATCH_SIZE,\n",
    "    class_mode='categorical',\n",
    "    shuffle=False\n",
    ")\n",
    "\n"
   ]
  },
  {
   "cell_type": "code",
   "execution_count": null,
   "metadata": {},
   "outputs": [],
   "source": []
  },
  {
   "cell_type": "code",
   "execution_count": null,
   "metadata": {},
   "outputs": [],
   "source": []
  },
  {
   "cell_type": "code",
   "execution_count": null,
   "metadata": {},
   "outputs": [],
   "source": []
  },
  {
   "cell_type": "code",
   "execution_count": null,
   "metadata": {},
   "outputs": [],
   "source": []
  },
  {
   "cell_type": "code",
   "execution_count": 22,
   "metadata": {},
   "outputs": [
    {
     "name": "stdout",
     "output_type": "stream",
     "text": [
      "9/9 [==============================] - 90s 10s/step - loss: 0.6738 - accuracy: 0.8244\n",
      "VGG16 Test Loss: 0.6738117933273315\n",
      "VGG16 Test accuracy: 0.8244274854660034\n"
     ]
    }
   ],
   "source": [
    "vgg16_scores = model_vgg16.evaluate(test_generator)\n",
    "print(\"VGG16 Test Loss:\", vgg16_scores[0])\n",
    "print(\"VGG16 Test accuracy:\", vgg16_scores[1])\n",
    "\n"
   ]
  },
  {
   "cell_type": "code",
   "execution_count": 23,
   "metadata": {},
   "outputs": [
    {
     "name": "stdout",
     "output_type": "stream",
     "text": [
      "9/9 [==============================] - 91s 10s/step - loss: 0.4380 - accuracy: 0.8717\n"
     ]
    }
   ],
   "source": [
    "vgg16_scores = model_vgg16.evaluate(validation_generator)"
   ]
  },
  {
   "cell_type": "code",
   "execution_count": 24,
   "metadata": {},
   "outputs": [
    {
     "name": "stdout",
     "output_type": "stream",
     "text": [
      "VGG16 validation Loss: 0.4380284547805786\n",
      "VGG16 validation Accuracy: 0.8716981410980225\n"
     ]
    }
   ],
   "source": [
    "print(\"VGG16 validation Loss:\", vgg16_scores[0])\n",
    "print(\"VGG16 validation Accuracy:\", vgg16_scores[1])"
   ]
  },
  {
   "cell_type": "code",
   "execution_count": 25,
   "metadata": {},
   "outputs": [],
   "source": [
    "model_vgg16.save('cards_vgg16.h5')"
   ]
  },
  {
   "cell_type": "code",
   "execution_count": 12,
   "metadata": {},
   "outputs": [
    {
     "ename": "SyntaxError",
     "evalue": "invalid syntax (<ipython-input-12-4071a1fba099>, line 1)",
     "output_type": "error",
     "traceback": [
      "\u001b[1;36m  File \u001b[1;32m\"<ipython-input-12-4071a1fba099>\"\u001b[1;36m, line \u001b[1;32m1\u001b[0m\n\u001b[1;33m    --\u001b[0m\n\u001b[1;37m      ^\u001b[0m\n\u001b[1;31mSyntaxError\u001b[0m\u001b[1;31m:\u001b[0m invalid syntax\n"
     ]
    }
   ],
   "source": [
    "--"
   ]
  },
  {
   "cell_type": "code",
   "execution_count": 30,
   "metadata": {},
   "outputs": [],
   "source": [
    "final_model = tensorflow.keras.models.load_model(\"cards_vgg16.h5\")"
   ]
  },
  {
   "cell_type": "code",
   "execution_count": null,
   "metadata": {},
   "outputs": [],
   "source": []
  },
  {
   "cell_type": "code",
   "execution_count": 28,
   "metadata": {},
   "outputs": [
    {
     "name": "stdout",
     "output_type": "stream",
     "text": [
      "output is : {'five of clubs'}\n"
     ]
    }
   ],
   "source": [
    "path = r\"C:\\Users\\LAKSHMI NARASIMHARAO\\innomatics\\Deep Learning\\Projects\\Cards prediction\\test\\five of clubs\\4.jpg\"\n",
    "\n",
    "img = cv2.imread(path)\n",
    "\n",
    "output = np.argmax(final_model.predict(cv2.resize(img,(224,224),interpolation=cv2.INTER_AREA)[np.newaxis]))\n",
    "\n",
    "value = {i for i in result if result[i]==output}\n",
    "print(\"output is :\",value)"
   ]
  },
  {
   "cell_type": "code",
   "execution_count": 29,
   "metadata": {},
   "outputs": [
    {
     "name": "stdout",
     "output_type": "stream",
     "text": [
      "output is : {'ten of clubs'}\n"
     ]
    },
    {
     "data": {
      "image/jpeg": "[encoded data removed]",
      "text/plain": [
       "<IPython.core.display.Image object>"
      ]
     },
     "execution_count": 29,
     "metadata": {},
     "output_type": "execute_result"
    }
   ],
   "source": [
    "import tensorflow\n",
    "\n",
    "from IPython.display import Image\n",
    "\n",
    "path = r\"C:\\Users\\LAKSHMI NARASIMHARAO\\innomatics\\Deep Learning\\Projects\\Cards prediction\\test\\joker\\3.jpg\"\n",
    "\n",
    "img = cv2.imread(path)\n",
    "\n",
    "output = np.argmax(final_model.predict(cv2.resize(img,(224,224),interpolation=cv2.INTER_AREA)[np.newaxis]))\n",
    "\n",
    "value = {i for i in result if result[i]==output}\n",
    "print(\"output is :\",value)\n",
    "\n",
    "Image(filename=path)"
   ]
  },
  {
   "cell_type": "code",
   "execution_count": null,
   "metadata": {},
   "outputs": [],
   "source": []
  },
  {
   "cell_type": "code",
   "execution_count": null,
   "metadata": {},
   "outputs": [],
   "source": []
  },
  {
   "cell_type": "code",
   "execution_count": null,
   "metadata": {},
   "outputs": [],
   "source": []
  },
  {
   "cell_type": "code",
   "execution_count": null,
   "metadata": {},
   "outputs": [],
   "source": []
  },
  {
   "cell_type": "code",
   "execution_count": null,
   "metadata": {},
   "outputs": [],
   "source": []
  },
  {
   "cell_type": "code",
   "execution_count": null,
   "metadata": {},
   "outputs": [],
   "source": []
  }
 ],
 "metadata": {
  "kernelspec": {
   "display_name": "Python 3",
   "language": "python",
   "name": "python3"
  },
  "language_info": {
   "codemirror_mode": {
    "name": "ipython",
    "version": 3
   },
   "file_extension": ".py",
   "mimetype": "text/x-python",
   "name": "python",
   "nbconvert_exporter": "python",
   "pygments_lexer": "ipython3",
   "version": "3.7.4"
  }
 },
 "nbformat": 4,
 "nbformat_minor": 2
}
